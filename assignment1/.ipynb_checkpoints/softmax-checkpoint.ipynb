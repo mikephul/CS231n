{
 "cells": [
  {
   "cell_type": "markdown",
   "metadata": {},
   "source": [
    "# Softmax exercise\n",
    "\n",
    "*Complete and hand in this completed worksheet (including its outputs and any supporting code outside of the worksheet) with your assignment submission. For more details see the [assignments page](http://vision.stanford.edu/teaching/cs231n/assignments.html) on the course website.*\n",
    "\n",
    "This exercise is analogous to the SVM exercise. You will:\n",
    "\n",
    "- implement a fully-vectorized **loss function** for the Softmax classifier\n",
    "- implement the fully-vectorized expression for its **analytic gradient**\n",
    "- **check your implementation** with numerical gradient\n",
    "- use a validation set to **tune the learning rate and regularization** strength\n",
    "- **optimize** the loss function with **SGD**\n",
    "- **visualize** the final learned weights\n"
   ]
  },
  {
   "cell_type": "code",
   "execution_count": 1,
   "metadata": {
    "collapsed": false
   },
   "outputs": [],
   "source": [
    "import random\n",
    "import numpy as np\n",
    "from cs231n.data_utils import load_CIFAR10\n",
    "import matplotlib.pyplot as plt\n",
    "\n",
    "from __future__ import print_function\n",
    "\n",
    "%matplotlib inline\n",
    "plt.rcParams['figure.figsize'] = (10.0, 8.0) # set default size of plots\n",
    "plt.rcParams['image.interpolation'] = 'nearest'\n",
    "plt.rcParams['image.cmap'] = 'gray'\n",
    "\n",
    "# for auto-reloading extenrnal modules\n",
    "# see http://stackoverflow.com/questions/1907993/autoreload-of-modules-in-ipython\n",
    "%load_ext autoreload\n",
    "%autoreload 2"
   ]
  },
  {
   "cell_type": "code",
   "execution_count": 2,
   "metadata": {
    "collapsed": false
   },
   "outputs": [
    {
     "name": "stdout",
     "output_type": "stream",
     "text": [
      "Train data shape:  (49000, 3073)\n",
      "Train labels shape:  (49000,)\n",
      "Validation data shape:  (1000, 3073)\n",
      "Validation labels shape:  (1000,)\n",
      "Test data shape:  (1000, 3073)\n",
      "Test labels shape:  (1000,)\n",
      "dev data shape:  (500, 3073)\n",
      "dev labels shape:  (500,)\n"
     ]
    }
   ],
   "source": [
    "def get_CIFAR10_data(num_training=49000, num_validation=1000, num_test=1000, num_dev=500):\n",
    "    \"\"\"\n",
    "    Load the CIFAR-10 dataset from disk and perform preprocessing to prepare\n",
    "    it for the linear classifier. These are the same steps as we used for the\n",
    "    SVM, but condensed to a single function.  \n",
    "    \"\"\"\n",
    "    # Load the raw CIFAR-10 data\n",
    "    cifar10_dir = 'cs231n/datasets/cifar-10-batches-py'\n",
    "    X_train, y_train, X_test, y_test = load_CIFAR10(cifar10_dir)\n",
    "    \n",
    "    # subsample the data\n",
    "    mask = list(range(num_training, num_training + num_validation))\n",
    "    X_val = X_train[mask]\n",
    "    y_val = y_train[mask]\n",
    "    mask = list(range(num_training))\n",
    "    X_train = X_train[mask]\n",
    "    y_train = y_train[mask]\n",
    "    mask = list(range(num_test))\n",
    "    X_test = X_test[mask]\n",
    "    y_test = y_test[mask]\n",
    "    mask = np.random.choice(num_training, num_dev, replace=False)\n",
    "    X_dev = X_train[mask]\n",
    "    y_dev = y_train[mask]\n",
    "    \n",
    "    # Preprocessing: reshape the image data into rows\n",
    "    X_train = np.reshape(X_train, (X_train.shape[0], -1))\n",
    "    X_val = np.reshape(X_val, (X_val.shape[0], -1))\n",
    "    X_test = np.reshape(X_test, (X_test.shape[0], -1))\n",
    "    X_dev = np.reshape(X_dev, (X_dev.shape[0], -1))\n",
    "    \n",
    "    # Normalize the data: subtract the mean image\n",
    "    mean_image = np.mean(X_train, axis = 0)\n",
    "    X_train -= mean_image\n",
    "    X_val -= mean_image\n",
    "    X_test -= mean_image\n",
    "    X_dev -= mean_image\n",
    "    \n",
    "    # add bias dimension and transform into columns\n",
    "    X_train = np.hstack([X_train, np.ones((X_train.shape[0], 1))])\n",
    "    X_val = np.hstack([X_val, np.ones((X_val.shape[0], 1))])\n",
    "    X_test = np.hstack([X_test, np.ones((X_test.shape[0], 1))])\n",
    "    X_dev = np.hstack([X_dev, np.ones((X_dev.shape[0], 1))])\n",
    "    \n",
    "    return X_train, y_train, X_val, y_val, X_test, y_test, X_dev, y_dev\n",
    "\n",
    "\n",
    "# Invoke the above function to get our data.\n",
    "X_train, y_train, X_val, y_val, X_test, y_test, X_dev, y_dev = get_CIFAR10_data()\n",
    "print('Train data shape: ', X_train.shape)\n",
    "print('Train labels shape: ', y_train.shape)\n",
    "print('Validation data shape: ', X_val.shape)\n",
    "print('Validation labels shape: ', y_val.shape)\n",
    "print('Test data shape: ', X_test.shape)\n",
    "print('Test labels shape: ', y_test.shape)\n",
    "print('dev data shape: ', X_dev.shape)\n",
    "print('dev labels shape: ', y_dev.shape)"
   ]
  },
  {
   "cell_type": "markdown",
   "metadata": {},
   "source": [
    "## Softmax Classifier\n",
    "\n",
    "Your code for this section will all be written inside **cs231n/classifiers/softmax.py**. \n"
   ]
  },
  {
   "cell_type": "code",
   "execution_count": 3,
   "metadata": {
    "collapsed": false
   },
   "outputs": [
    {
     "name": "stdout",
     "output_type": "stream",
     "text": [
      "loss: 2.372946\n",
      "sanity check: 2.302585\n"
     ]
    }
   ],
   "source": [
    "# First implement the naive softmax loss function with nested loops.\n",
    "# Open the file cs231n/classifiers/softmax.py and implement the\n",
    "# softmax_loss_naive function.\n",
    "\n",
    "from cs231n.classifiers.softmax import softmax_loss_naive\n",
    "import time\n",
    "\n",
    "# Generate a random softmax weight matrix and use it to compute the loss.\n",
    "W = np.random.randn(3073, 10) * 0.0001\n",
    "loss, grad = softmax_loss_naive(W, X_dev, y_dev, 0.0)\n",
    "\n",
    "# As a rough sanity check, our loss should be something close to -log(0.1).\n",
    "print('loss: %f' % loss)\n",
    "print('sanity check: %f' % (-np.log(0.1)))"
   ]
  },
  {
   "cell_type": "markdown",
   "metadata": {},
   "source": [
    "## Inline Question 1:\n",
    "Why do we expect our loss to be close to -log(0.1)? Explain briefly.**\n",
    "\n",
    "**Your answer:** \n",
    "Since each entry of weigth is distributed iid, we know that for each classes, $f_j = (Wx_i)_j$ is approximately the same for all $j$. Then, for each data point $i$, we have $$L_i = -\\log( \\frac{\\exp(f_{y_i})}{\\sum_j \\exp(f_j)} ) = -\\log( \\frac{\\exp(f_{y_i})}{10 \\exp(f_{y_i})} ) = -\\log(0.1)$$.\n",
    "Then, $$loss = \\frac{1}{n}\\sum_i^n L_i = L_i = -\\log(0.1)$$\n"
   ]
  },
  {
   "cell_type": "code",
   "execution_count": 4,
   "metadata": {
    "collapsed": false
   },
   "outputs": [
    {
     "name": "stdout",
     "output_type": "stream",
     "text": [
      "numerical: -0.153820 analytic: -0.153820, relative error: 1.727808e-07\n",
      "numerical: 0.390596 analytic: 0.390595, relative error: 1.585940e-07\n",
      "numerical: 1.563286 analytic: 1.563286, relative error: 7.620172e-09\n",
      "numerical: -3.836857 analytic: -3.836857, relative error: 2.995741e-09\n",
      "numerical: 1.657084 analytic: 1.657084, relative error: 2.571266e-08\n",
      "numerical: -0.026681 analytic: -0.026681, relative error: 1.008025e-06\n",
      "numerical: 0.479808 analytic: 0.479808, relative error: 5.837397e-08\n",
      "numerical: 0.500870 analytic: 0.500869, relative error: 1.150515e-07\n",
      "numerical: -0.230310 analytic: -0.230310, relative error: 1.437129e-07\n",
      "numerical: -1.209698 analytic: -1.209698, relative error: 2.467665e-08\n",
      "numerical: -0.530069 analytic: -0.530069, relative error: 6.157074e-08\n",
      "numerical: -4.366134 analytic: -4.366134, relative error: 8.978706e-09\n",
      "numerical: 1.863972 analytic: 1.863972, relative error: 4.490661e-09\n",
      "numerical: 2.369779 analytic: 2.369779, relative error: 1.557334e-08\n",
      "numerical: 0.223385 analytic: 0.223385, relative error: 1.183273e-07\n",
      "numerical: 0.646914 analytic: 0.646914, relative error: 3.717265e-09\n",
      "numerical: 3.162926 analytic: 3.162926, relative error: 1.150891e-08\n",
      "numerical: -2.195895 analytic: -2.195895, relative error: 3.756622e-08\n",
      "numerical: -0.724784 analytic: -0.724784, relative error: 1.074844e-08\n",
      "numerical: -1.601530 analytic: -1.601530, relative error: 5.968268e-09\n"
     ]
    }
   ],
   "source": [
    "# Complete the implementation of softmax_loss_naive and implement a (naive)\n",
    "# version of the gradient that uses nested loops.\n",
    "loss, grad = softmax_loss_naive(W, X_dev, y_dev, 0.0)\n",
    "\n",
    "# As we did for the SVM, use numeric gradient checking as a debugging tool.\n",
    "# The numeric gradient should be close to the analytic gradient.\n",
    "from cs231n.gradient_check import grad_check_sparse\n",
    "f = lambda w: softmax_loss_naive(w, X_dev, y_dev, 0.0)[0]\n",
    "grad_numerical = grad_check_sparse(f, W, grad, 10)\n",
    "\n",
    "# similar to SVM case, do another gradient check with regularization\n",
    "loss, grad = softmax_loss_naive(W, X_dev, y_dev, 5e1)\n",
    "f = lambda w: softmax_loss_naive(w, X_dev, y_dev, 5e1)[0]\n",
    "grad_numerical = grad_check_sparse(f, W, grad, 10)"
   ]
  },
  {
   "cell_type": "code",
   "execution_count": 5,
   "metadata": {
    "collapsed": false
   },
   "outputs": [
    {
     "name": "stdout",
     "output_type": "stream",
     "text": [
      "naive loss: 2.372946e+00 computed in 0.223006s\n",
      "vectorized loss: 2.372946e+00 computed in 0.014771s\n",
      "Loss difference: 0.000000\n",
      "Gradient difference: 0.000000\n"
     ]
    }
   ],
   "source": [
    "# Now that we have a naive implementation of the softmax loss function and its gradient,\n",
    "# implement a vectorized version in softmax_loss_vectorized.\n",
    "# The two versions should compute the same results, but the vectorized version should be\n",
    "# much faster.\n",
    "tic = time.time()\n",
    "loss_naive, grad_naive = softmax_loss_naive(W, X_dev, y_dev, 0.000005)\n",
    "toc = time.time()\n",
    "print('naive loss: %e computed in %fs' % (loss_naive, toc - tic))\n",
    "\n",
    "from cs231n.classifiers.softmax import softmax_loss_vectorized\n",
    "tic = time.time()\n",
    "loss_vectorized, grad_vectorized = softmax_loss_vectorized(W, X_dev, y_dev, 0.000005)\n",
    "toc = time.time()\n",
    "print('vectorized loss: %e computed in %fs' % (loss_vectorized, toc - tic))\n",
    "\n",
    "# As we did for the SVM, we use the Frobenius norm to compare the two versions\n",
    "# of the gradient.\n",
    "grad_difference = np.linalg.norm(grad_naive - grad_vectorized, ord='fro')\n",
    "print('Loss difference: %f' % np.abs(loss_naive - loss_vectorized))\n",
    "print('Gradient difference: %f' % grad_difference)"
   ]
  },
  {
   "cell_type": "code",
   "execution_count": 8,
   "metadata": {
    "collapsed": false
   },
   "outputs": [
    {
     "name": "stdout",
     "output_type": "stream",
     "text": [
      "lr 3.900000e-07 reg 2.300000e+04 train accuracy: 0.322224 val accuracy: 0.344000\n",
      "lr 3.900000e-07 reg 2.350000e+04 train accuracy: 0.317388 val accuracy: 0.336000\n",
      "lr 3.900000e-07 reg 2.400000e+04 train accuracy: 0.334592 val accuracy: 0.349000\n",
      "lr 3.900000e-07 reg 2.450000e+04 train accuracy: 0.325020 val accuracy: 0.348000\n",
      "lr 3.900000e-07 reg 2.500000e+04 train accuracy: 0.315939 val accuracy: 0.328000\n",
      "lr 3.925000e-07 reg 2.300000e+04 train accuracy: 0.335367 val accuracy: 0.342000\n",
      "lr 3.925000e-07 reg 2.350000e+04 train accuracy: 0.329388 val accuracy: 0.339000\n",
      "lr 3.925000e-07 reg 2.400000e+04 train accuracy: 0.331041 val accuracy: 0.345000\n",
      "lr 3.925000e-07 reg 2.450000e+04 train accuracy: 0.330898 val accuracy: 0.341000\n",
      "lr 3.925000e-07 reg 2.500000e+04 train accuracy: 0.324857 val accuracy: 0.348000\n",
      "lr 3.950000e-07 reg 2.300000e+04 train accuracy: 0.330306 val accuracy: 0.353000\n",
      "lr 3.950000e-07 reg 2.350000e+04 train accuracy: 0.333980 val accuracy: 0.350000\n",
      "lr 3.950000e-07 reg 2.400000e+04 train accuracy: 0.322102 val accuracy: 0.329000\n",
      "lr 3.950000e-07 reg 2.450000e+04 train accuracy: 0.329898 val accuracy: 0.350000\n",
      "lr 3.950000e-07 reg 2.500000e+04 train accuracy: 0.333673 val accuracy: 0.346000\n",
      "lr 3.975000e-07 reg 2.300000e+04 train accuracy: 0.333959 val accuracy: 0.341000\n",
      "lr 3.975000e-07 reg 2.350000e+04 train accuracy: 0.330490 val accuracy: 0.341000\n",
      "lr 3.975000e-07 reg 2.400000e+04 train accuracy: 0.329286 val accuracy: 0.355000\n",
      "lr 3.975000e-07 reg 2.450000e+04 train accuracy: 0.327918 val accuracy: 0.316000\n",
      "lr 3.975000e-07 reg 2.500000e+04 train accuracy: 0.332041 val accuracy: 0.356000\n",
      "lr 4.000000e-07 reg 2.300000e+04 train accuracy: 0.331143 val accuracy: 0.341000\n",
      "lr 4.000000e-07 reg 2.350000e+04 train accuracy: 0.327551 val accuracy: 0.355000\n",
      "lr 4.000000e-07 reg 2.400000e+04 train accuracy: 0.330184 val accuracy: 0.340000\n",
      "lr 4.000000e-07 reg 2.450000e+04 train accuracy: 0.323531 val accuracy: 0.344000\n",
      "lr 4.000000e-07 reg 2.500000e+04 train accuracy: 0.331429 val accuracy: 0.349000\n",
      "lr 3.900000e-07 reg 2.300000e+04 train accuracy: 0.322224 val accuracy: 0.344000\n",
      "lr 3.900000e-07 reg 2.350000e+04 train accuracy: 0.317388 val accuracy: 0.336000\n",
      "lr 3.900000e-07 reg 2.400000e+04 train accuracy: 0.334592 val accuracy: 0.349000\n",
      "lr 3.900000e-07 reg 2.450000e+04 train accuracy: 0.325020 val accuracy: 0.348000\n",
      "lr 3.900000e-07 reg 2.500000e+04 train accuracy: 0.315939 val accuracy: 0.328000\n",
      "lr 3.925000e-07 reg 2.300000e+04 train accuracy: 0.335367 val accuracy: 0.342000\n",
      "lr 3.925000e-07 reg 2.350000e+04 train accuracy: 0.329388 val accuracy: 0.339000\n",
      "lr 3.925000e-07 reg 2.400000e+04 train accuracy: 0.331041 val accuracy: 0.345000\n",
      "lr 3.925000e-07 reg 2.450000e+04 train accuracy: 0.330898 val accuracy: 0.341000\n",
      "lr 3.925000e-07 reg 2.500000e+04 train accuracy: 0.324857 val accuracy: 0.348000\n",
      "lr 3.950000e-07 reg 2.300000e+04 train accuracy: 0.330306 val accuracy: 0.353000\n",
      "lr 3.950000e-07 reg 2.350000e+04 train accuracy: 0.333980 val accuracy: 0.350000\n",
      "lr 3.950000e-07 reg 2.400000e+04 train accuracy: 0.322102 val accuracy: 0.329000\n",
      "lr 3.950000e-07 reg 2.450000e+04 train accuracy: 0.329898 val accuracy: 0.350000\n",
      "lr 3.950000e-07 reg 2.500000e+04 train accuracy: 0.333673 val accuracy: 0.346000\n",
      "lr 3.975000e-07 reg 2.300000e+04 train accuracy: 0.333959 val accuracy: 0.341000\n",
      "lr 3.975000e-07 reg 2.350000e+04 train accuracy: 0.330490 val accuracy: 0.341000\n",
      "lr 3.975000e-07 reg 2.400000e+04 train accuracy: 0.329286 val accuracy: 0.355000\n",
      "lr 3.975000e-07 reg 2.450000e+04 train accuracy: 0.327918 val accuracy: 0.316000\n",
      "lr 3.975000e-07 reg 2.500000e+04 train accuracy: 0.332041 val accuracy: 0.356000\n",
      "lr 4.000000e-07 reg 2.300000e+04 train accuracy: 0.331143 val accuracy: 0.341000\n",
      "lr 4.000000e-07 reg 2.350000e+04 train accuracy: 0.327551 val accuracy: 0.355000\n",
      "lr 4.000000e-07 reg 2.400000e+04 train accuracy: 0.330184 val accuracy: 0.340000\n",
      "lr 4.000000e-07 reg 2.450000e+04 train accuracy: 0.323531 val accuracy: 0.344000\n",
      "lr 4.000000e-07 reg 2.500000e+04 train accuracy: 0.331429 val accuracy: 0.349000\n",
      "best validation accuracy achieved during cross-validation: 0.356000\n"
     ]
    }
   ],
   "source": [
    "# Use the validation set to tune hyperparameters (regularization strength and\n",
    "# learning rate). You should experiment with different ranges for the learning\n",
    "# rates and regularization strengths; if you are careful you should be able to\n",
    "# get a classification accuracy of over 0.35 on the validation set.\n",
    "from cs231n.classifiers import Softmax\n",
    "results = {}\n",
    "best_val = -1\n",
    "best_softmax = None\n",
    "learning_rates = [3.9e-7, 4e-7]\n",
    "regularization_strengths = [2.3e4, 2.5e4]\n",
    "\n",
    "################################################################################\n",
    "# TODO:                                                                        #\n",
    "# Use the validation set to set the learning rate and regularization strength. #\n",
    "# This should be identical to the validation that you did for the SVM; save    #\n",
    "# the best trained softmax classifer in best_softmax.                          #\n",
    "################################################################################\n",
    "\n",
    "# 35.6%\n",
    "# lr 3.975000e-07 reg 2.500000e+04 train accuracy: 0.332041 val accuracy: 0.356000\n",
    "\n",
    "for lr in np.linspace(learning_rates[0], learning_rates[1], num=5):\n",
    "    for reg in np.linspace(regularization_strengths[0], regularization_strengths[1], num=5):\n",
    "        \n",
    "        softmax = Softmax()\n",
    "        softmax.train(X_train, y_train, learning_rate = lr, reg = reg, num_iters=2000, verbose=False)\n",
    "        \n",
    "        y_train_pred = softmax.predict(X_train)\n",
    "        train_accuracy = np.mean(y_train == y_train_pred)\n",
    "\n",
    "        y_val_pred = softmax.predict(X_val)\n",
    "        val_accuracy = np.mean(y_val == y_val_pred)\n",
    "        \n",
    "        results[(lr, reg)] = (train_accuracy, val_accuracy)\n",
    "    \n",
    "        if val_accuracy > best_val:\n",
    "            best_val = val_accuracy\n",
    "            best_softmax = softmax\n",
    "################################################################################\n",
    "#                              END OF YOUR CODE                                #\n",
    "################################################################################\n",
    "    \n",
    "# Print out results.\n",
    "for lr, reg in sorted(results):\n",
    "    train_accuracy, val_accuracy = results[(lr, reg)]\n",
    "    print('lr %e reg %e train accuracy: %f val accuracy: %f' % (\n",
    "                lr, reg, train_accuracy, val_accuracy))\n",
    "    \n",
    "print('best validation accuracy achieved during cross-validation: %f' % best_val)"
   ]
  },
  {
   "cell_type": "code",
   "execution_count": 9,
   "metadata": {
    "collapsed": false
   },
   "outputs": [
    {
     "name": "stdout",
     "output_type": "stream",
     "text": [
      "softmax on raw pixels final test set accuracy: 0.336000\n"
     ]
    }
   ],
   "source": [
    "# evaluate on test set\n",
    "# Evaluate the best softmax on test set\n",
    "y_test_pred = best_softmax.predict(X_test)\n",
    "test_accuracy = np.mean(y_test == y_test_pred)\n",
    "print('softmax on raw pixels final test set accuracy: %f' % (test_accuracy, ))"
   ]
  },
  {
   "cell_type": "code",
   "execution_count": 10,
   "metadata": {
    "collapsed": false
   },
   "outputs": [
    {
     "data": {
      "image/png": "[encoded data removed]",
      "text/plain": [
       "<matplotlib.figure.Figure at 0x7f6c3dcd8a20>"
      ]
     },
     "metadata": {},
     "output_type": "display_data"
    }
   ],
   "source": [
    "# Visualize the learned weights for each class\n",
    "w = best_softmax.W[:-1,:] # strip out the bias\n",
    "w = w.reshape(32, 32, 3, 10)\n",
    "\n",
    "w_min, w_max = np.min(w), np.max(w)\n",
    "\n",
    "classes = ['plane', 'car', 'bird', 'cat', 'deer', 'dog', 'frog', 'horse', 'ship', 'truck']\n",
    "for i in range(10):\n",
    "    plt.subplot(2, 5, i + 1)\n",
    "    \n",
    "    # Rescale the weights to be between 0 and 255\n",
    "    wimg = 255.0 * (w[:, :, :, i].squeeze() - w_min) / (w_max - w_min)\n",
    "    plt.imshow(wimg.astype('uint8'))\n",
    "    plt.axis('off')\n",
    "    plt.title(classes[i])"
   ]
  },
  {
   "cell_type": "code",
   "execution_count": null,
   "metadata": {
    "collapsed": true
   },
   "outputs": [],
   "source": []
  }
 ],
 "metadata": {
  "kernelspec": {
   "display_name": "Python 3",
   "language": "python",
   "name": "python3"
  },
  "language_info": {
   "codemirror_mode": {
    "name": "ipython",
    "version": 3
   },
   "file_extension": ".py",
   "mimetype": "text/x-python",
   "name": "python",
   "nbconvert_exporter": "python",
   "pygments_lexer": "ipython3",
   "version": "3.5.2"
  }
 },
 "nbformat": 4,
 "nbformat_minor": 0
}
